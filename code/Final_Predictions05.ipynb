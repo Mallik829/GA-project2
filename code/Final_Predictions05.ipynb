{
 "cells": [
  {
   "cell_type": "code",
   "execution_count": 1,
   "id": "d24bb606",
   "metadata": {},
   "outputs": [],
   "source": [
    "# imports\n",
    "import numpy as np\n",
    "import pandas as pd\n",
    "import matplotlib.pyplot as plt\n",
    "import seaborn as sns\n",
    "\n",
    "from sklearn.linear_model import LinearRegression, Ridge, RidgeCV, Lasso, LassoCV\n",
    "from sklearn.model_selection import train_test_split, cross_val_score\n",
    "from sklearn.preprocessing import StandardScaler, PolynomialFeatures, OneHotEncoder\n",
    "from sklearn.compose import ColumnTransformer\n",
    "from sklearn.impute import SimpleImputer\n",
    "from sklearn.metrics import mean_squared_error"
   ]
  },
  {
   "cell_type": "code",
   "execution_count": 115,
   "id": "1aae30ea",
   "metadata": {},
   "outputs": [],
   "source": [
    "# read in data\n",
    "train_data = pd.read_csv('../datasets/train_clean_final.csv')\n",
    "test_data = pd.read_csv('../datasets/test_clean.csv')"
   ]
  },
  {
   "cell_type": "code",
   "execution_count": 118,
   "id": "03c55419",
   "metadata": {},
   "outputs": [],
   "source": [
    "# remove unnamed and extra columns\n",
    "test_data.drop(['Unnamed: 0'], axis=1, inplace=True)\n",
    "train_data.drop(['Unnamed: 0'], axis=1, inplace=True)\n"
   ]
  },
  {
   "cell_type": "markdown",
   "id": "63a43c09",
   "metadata": {},
   "source": [
    "## Final Predictions\n",
    "In this notebook, we will use the models and hyperparameters we determined in our other notebooks to train on all the train data, predict on the test data, and create our submission csvs for Kaggle"
   ]
  },
  {
   "cell_type": "code",
   "execution_count": 119,
   "id": "dccccfb3",
   "metadata": {},
   "outputs": [],
   "source": [
    "# define training and testing data and IDs\n",
    "X_train = train_data.drop(columns = ['saleprice', 'id'])\n",
    "X_test = test_data.drop(columns = ['id'])\n",
    "y_train = train_data['saleprice']\n",
    "IDs = test_data['id']"
   ]
  },
  {
   "cell_type": "markdown",
   "id": "4d5f7943",
   "metadata": {},
   "source": [
    "### Linear Regression"
   ]
  },
  {
   "cell_type": "code",
   "execution_count": 120,
   "id": "24a1b827",
   "metadata": {},
   "outputs": [
    {
     "name": "stdout",
     "output_type": "stream",
     "text": [
      "train r-squared score: 0.8551992468329397\n"
     ]
    }
   ],
   "source": [
    "# Instantiate, fit and score our model on train data\n",
    "lr = LinearRegression()\n",
    "lr.fit(X_train, y_train)\n",
    "# Train score\n",
    "print(f'train r-squared score: {lr.score(X_train, y_train)}')"
   ]
  },
  {
   "cell_type": "code",
   "execution_count": 121,
   "id": "1187addf",
   "metadata": {},
   "outputs": [
    {
     "name": "stdout",
     "output_type": "stream",
     "text": [
      "RMSE is 30079.050958826432\n"
     ]
    }
   ],
   "source": [
    "# Print RMSE for training data\n",
    "y_preds = lr.predict(X_train)\n",
    "mse = mean_squared_error(y_train, y_preds, squared=False)\n",
    "print(f'RMSE is {mse}')"
   ]
  },
  {
   "cell_type": "code",
   "execution_count": 112,
   "id": "fa2c65f7",
   "metadata": {
    "scrolled": false
   },
   "outputs": [],
   "source": [
    "# predict saleprice for test data\n",
    "y_pred_final = lr.predict(X_test)"
   ]
  },
  {
   "cell_type": "code",
   "execution_count": 113,
   "id": "4eab03ff",
   "metadata": {},
   "outputs": [],
   "source": [
    "# create dataframe for submission\n",
    "lr_df = pd.DataFrame()\n",
    "lr_df['Id'] = IDs\n",
    "lr_df['SalePrice'] = y_pred_final"
   ]
  },
  {
   "cell_type": "code",
   "execution_count": 114,
   "id": "2181847d",
   "metadata": {},
   "outputs": [],
   "source": [
    "# write to csv for submission\n",
    "lr_df.to_csv('../Submissions/lr_preds_3.csv')"
   ]
  },
  {
   "cell_type": "markdown",
   "id": "b0105673",
   "metadata": {},
   "source": [
    "### Ridge Regression"
   ]
  },
  {
   "cell_type": "markdown",
   "id": "7e1c0ff2",
   "metadata": {},
   "source": [
    "#### Standard Scaling"
   ]
  },
  {
   "cell_type": "code",
   "execution_count": 89,
   "id": "54301e8d",
   "metadata": {},
   "outputs": [],
   "source": [
    "# Scale our data.\n",
    "sc = StandardScaler()\n",
    "Z_train = sc.fit_transform(X_train)\n",
    "Z_test = sc.transform(X_test)"
   ]
  },
  {
   "cell_type": "markdown",
   "id": "c69398f2",
   "metadata": {},
   "source": [
    "#### Cross Validate and Predict"
   ]
  },
  {
   "cell_type": "code",
   "execution_count": 90,
   "id": "494e7ff8",
   "metadata": {},
   "outputs": [],
   "source": [
    "# define list of alphas\n",
    "alphas = np.logspace(1, 3, 1000)"
   ]
  },
  {
   "cell_type": "code",
   "execution_count": 91,
   "id": "be946ce8",
   "metadata": {},
   "outputs": [
    {
     "data": {
      "text/plain": [
       "RidgeCV(alphas=array([  10.        ,   10.04620421,   10.09262191,   10.13925408,\n",
       "         10.1861017 ,   10.23316578,   10.28044732,   10.32794732,\n",
       "         10.37566679,   10.42360674,   10.47176819,   10.52015218,\n",
       "         10.56875971,   10.61759183,   10.66664958,   10.715934  ,\n",
       "         10.76544613,   10.81518703,   10.86515775,   10.91535935,\n",
       "         10.96579291,   11.0164595 ,   11.06736018,   11.11849605,\n",
       "         11.16986818,   11.22147768,   11.27332564,   11.32541315,\n",
       "         11.3...\n",
       "        882.96999555,  887.04968897,  891.14823228,  895.2657126 ,\n",
       "        899.40221741,  903.55783461,  907.73265252,  911.92675985,\n",
       "        916.14024571,  920.37319966,  924.62571164,  928.89787202,\n",
       "        933.18977157,  937.50150151,  941.83315346,  946.18481947,\n",
       "        950.55659201,  954.94856398,  959.36082871,  963.79347996,\n",
       "        968.24661193,  972.72031925,  977.21469697,  981.72984062,\n",
       "        986.26584613,  990.8228099 ,  995.40082876, 1000.        ]),\n",
       "        cv=8, scoring='r2')"
      ]
     },
     "execution_count": 91,
     "metadata": {},
     "output_type": "execute_result"
    }
   ],
   "source": [
    "# cross validate ridge regression over a range of alphas\n",
    "\n",
    "ridge_cv = RidgeCV(alphas=alphas, scoring='r2', cv=8)\n",
    "ridge_cv.fit(Z_train, y_train)"
   ]
  },
  {
   "cell_type": "code",
   "execution_count": 92,
   "id": "9f44674b",
   "metadata": {},
   "outputs": [
    {
     "data": {
      "text/plain": [
       "45.56786265841064"
      ]
     },
     "execution_count": 92,
     "metadata": {},
     "output_type": "execute_result"
    }
   ],
   "source": [
    "# optimal ridge alpha for entire training data\n",
    "ridge_cv.alpha_"
   ]
  },
  {
   "cell_type": "code",
   "execution_count": 93,
   "id": "e0d7300d",
   "metadata": {},
   "outputs": [
    {
     "data": {
      "text/plain": [
       "Ridge(alpha=45.56786265841064)"
      ]
     },
     "execution_count": 93,
     "metadata": {},
     "output_type": "execute_result"
    }
   ],
   "source": [
    "# fit ridge model with optimal alpha\n",
    "ridge = Ridge(alpha = 45.56786265841064)\n",
    "ridge.fit(Z_train, y_train)"
   ]
  },
  {
   "cell_type": "code",
   "execution_count": 94,
   "id": "fe903040",
   "metadata": {},
   "outputs": [
    {
     "name": "stdout",
     "output_type": "stream",
     "text": [
      "0.8546021953948765\n"
     ]
    }
   ],
   "source": [
    "# print R2 scores for train data\n",
    "print(ridge.score(Z_train, y_train))"
   ]
  },
  {
   "cell_type": "code",
   "execution_count": 95,
   "id": "175d2c57",
   "metadata": {},
   "outputs": [],
   "source": [
    "# Final Predictions\n",
    "y_pred_final = ridge.predict(Z_test)"
   ]
  },
  {
   "cell_type": "code",
   "execution_count": 96,
   "id": "021f0bf6",
   "metadata": {},
   "outputs": [],
   "source": [
    "# create dataframe for submission\n",
    "ridge_df = pd.DataFrame()\n",
    "ridge_df['Id'] = IDs\n",
    "ridge_df['SalePrice'] = y_pred_final"
   ]
  },
  {
   "cell_type": "code",
   "execution_count": 97,
   "id": "877352e7",
   "metadata": {},
   "outputs": [],
   "source": [
    "# write to csv for submission\n",
    "ridge_df.to_csv('../Submissions/ridge_preds_2.csv')"
   ]
  },
  {
   "cell_type": "markdown",
   "id": "5dbf3a97",
   "metadata": {},
   "source": [
    "### Lasso Regression"
   ]
  },
  {
   "cell_type": "code",
   "execution_count": 66,
   "id": "0ab2f1d0",
   "metadata": {},
   "outputs": [
    {
     "name": "stderr",
     "output_type": "stream",
     "text": [
      "/home/mark/Python/anaconda3/lib/python3.7/site-packages/sklearn/linear_model/_coordinate_descent.py:644: UserWarning: Coordinate descent with alpha=0 may lead to unexpected results and is discouraged.\n",
      "  positive,\n",
      "/home/mark/Python/anaconda3/lib/python3.7/site-packages/sklearn/linear_model/_coordinate_descent.py:644: ConvergenceWarning: Objective did not converge. You might want to increase the number of iterations. Duality gap: 763505974726.707, tolerance: 1017489520.5073091\n",
      "  positive,\n",
      "/home/mark/Python/anaconda3/lib/python3.7/site-packages/sklearn/linear_model/_coordinate_descent.py:644: UserWarning: Coordinate descent with alpha=0 may lead to unexpected results and is discouraged.\n",
      "  positive,\n",
      "/home/mark/Python/anaconda3/lib/python3.7/site-packages/sklearn/linear_model/_coordinate_descent.py:644: ConvergenceWarning: Objective did not converge. You might want to increase the number of iterations. Duality gap: 789731724334.0312, tolerance: 1032621469.6942977\n",
      "  positive,\n",
      "/home/mark/Python/anaconda3/lib/python3.7/site-packages/sklearn/linear_model/_coordinate_descent.py:644: UserWarning: Coordinate descent with alpha=0 may lead to unexpected results and is discouraged.\n",
      "  positive,\n",
      "/home/mark/Python/anaconda3/lib/python3.7/site-packages/sklearn/linear_model/_coordinate_descent.py:644: ConvergenceWarning: Objective did not converge. You might want to increase the number of iterations. Duality gap: 663382847103.9805, tolerance: 1012258426.3481979\n",
      "  positive,\n",
      "/home/mark/Python/anaconda3/lib/python3.7/site-packages/sklearn/linear_model/_coordinate_descent.py:644: UserWarning: Coordinate descent with alpha=0 may lead to unexpected results and is discouraged.\n",
      "  positive,\n",
      "/home/mark/Python/anaconda3/lib/python3.7/site-packages/sklearn/linear_model/_coordinate_descent.py:644: ConvergenceWarning: Objective did not converge. You might want to increase the number of iterations. Duality gap: 778089933983.3906, tolerance: 1044525082.6971645\n",
      "  positive,\n",
      "/home/mark/Python/anaconda3/lib/python3.7/site-packages/sklearn/linear_model/_coordinate_descent.py:644: UserWarning: Coordinate descent with alpha=0 may lead to unexpected results and is discouraged.\n",
      "  positive,\n",
      "/home/mark/Python/anaconda3/lib/python3.7/site-packages/sklearn/linear_model/_coordinate_descent.py:644: ConvergenceWarning: Objective did not converge. You might want to increase the number of iterations. Duality gap: 653905650676.957, tolerance: 991249492.4027802\n",
      "  positive,\n"
     ]
    },
    {
     "data": {
      "text/plain": [
       "LassoCV(alphas=array([0.00000000e+00, 1.00020004e-01, 2.00040008e-01, ...,\n",
       "       4.99799960e+02, 4.99899980e+02, 5.00000000e+02]),\n",
       "        cv=5, max_iter=10000, random_state=21)"
      ]
     },
     "execution_count": 66,
     "metadata": {},
     "output_type": "execute_result"
    }
   ],
   "source": [
    "# cross validate ridge regression over a range of alphas\n",
    "alphas = np.linspace(0, 500, 5000)\n",
    "lasso_cv = LassoCV(alphas=alphas, n_alphas=100, cv=5, random_state=21, max_iter=10000)\n",
    "lasso_cv.fit(Z_train, y_train)"
   ]
  },
  {
   "cell_type": "code",
   "execution_count": 67,
   "id": "3cbae725",
   "metadata": {},
   "outputs": [
    {
     "data": {
      "text/plain": [
       "189.9379875975195"
      ]
     },
     "execution_count": 67,
     "metadata": {},
     "output_type": "execute_result"
    }
   ],
   "source": [
    "# print the optimal value of alpha\n",
    "lasso_cv.alpha_"
   ]
  },
  {
   "cell_type": "code",
   "execution_count": 68,
   "id": "c9b8338f",
   "metadata": {},
   "outputs": [
    {
     "data": {
      "text/plain": [
       "Lasso(alpha=189.9379875975195)"
      ]
     },
     "execution_count": 68,
     "metadata": {},
     "output_type": "execute_result"
    }
   ],
   "source": [
    "# fit lasso with optimal alpha\n",
    "lasso = Lasso(alpha=189.9379875975195)\n",
    "lasso.fit(Z_train, y_train)"
   ]
  },
  {
   "cell_type": "code",
   "execution_count": 69,
   "id": "d9f54693",
   "metadata": {},
   "outputs": [
    {
     "name": "stdout",
     "output_type": "stream",
     "text": [
      "0.8548806384621117\n"
     ]
    }
   ],
   "source": [
    "# print R2 scores\n",
    "print(lasso.score(Z_train, y_train))"
   ]
  },
  {
   "cell_type": "code",
   "execution_count": 53,
   "id": "5b96f7e9",
   "metadata": {},
   "outputs": [],
   "source": [
    "# Final Predictions\n",
    "y_pred_final = lasso.predict(Z_test)"
   ]
  },
  {
   "cell_type": "code",
   "execution_count": 54,
   "id": "4929fcc7",
   "metadata": {},
   "outputs": [],
   "source": [
    "# create dataframe for submission\n",
    "lasso_df = pd.DataFrame()\n",
    "lasso_df['Id'] = IDs\n",
    "lasso_df['SalePrice'] = y_pred_final"
   ]
  },
  {
   "cell_type": "code",
   "execution_count": 55,
   "id": "8cc1f506",
   "metadata": {},
   "outputs": [],
   "source": [
    "# write to csv for submission\n",
    "lasso_df.to_csv('../Submissions/lasso_preds_1.csv')"
   ]
  },
  {
   "cell_type": "code",
   "execution_count": null,
   "id": "44033ff8",
   "metadata": {},
   "outputs": [],
   "source": []
  }
 ],
 "metadata": {
  "kernelspec": {
   "display_name": "Python 3 (ipykernel)",
   "language": "python",
   "name": "python3"
  },
  "language_info": {
   "codemirror_mode": {
    "name": "ipython",
    "version": 3
   },
   "file_extension": ".py",
   "mimetype": "text/x-python",
   "name": "python",
   "nbconvert_exporter": "python",
   "pygments_lexer": "ipython3",
   "version": "3.7.5"
  }
 },
 "nbformat": 4,
 "nbformat_minor": 5
}
