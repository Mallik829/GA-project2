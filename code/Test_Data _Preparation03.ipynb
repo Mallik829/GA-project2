{
 "cells": [
  {
   "cell_type": "code",
   "execution_count": 1,
   "id": "cf002556",
   "metadata": {},
   "outputs": [],
   "source": [
    "# imports\n",
    "import numpy as np\n",
    "import pandas as pd\n",
    "import matplotlib.pyplot as plt\n",
    "import seaborn as sns\n",
    "\n",
    "from sklearn.linear_model import LinearRegression, Ridge, RidgeCV, Lasso, LassoCV\n",
    "from sklearn.model_selection import train_test_split, cross_val_score\n",
    "from sklearn.preprocessing import StandardScaler, PolynomialFeatures, OneHotEncoder\n",
    "from sklearn.compose import ColumnTransformer\n",
    "from sklearn.impute import SimpleImputer\n",
    "from sklearn.metrics import mean_squared_error"
   ]
  },
  {
   "cell_type": "markdown",
   "id": "360ac8df",
   "metadata": {},
   "source": [
    "## Test Data Preparation\n",
    "In this notebook, we will prepare the test.csv in the same way we did for train.csv, and write cleaned test data to csv for final predictions"
   ]
  },
  {
   "cell_type": "markdown",
   "id": "29fc1235",
   "metadata": {},
   "source": [
    "### Data Cleaning\n",
    "Most of these steps will be repeated from our EDA and Cleaning notebook and Preprocessing and Feature Engineering notebook"
   ]
  },
  {
   "cell_type": "code",
   "execution_count": 2,
   "id": "a9488e1d",
   "metadata": {},
   "outputs": [],
   "source": [
    "pd.set_option('display.max_rows', 100)\n",
    "pd.set_option('display.max_columns', 50)"
   ]
  },
  {
   "cell_type": "code",
   "execution_count": 3,
   "id": "0d09a09f",
   "metadata": {},
   "outputs": [],
   "source": [
    "# read in test and train data\n",
    "data = pd.read_csv('../datasets/test.csv')\n",
    "train_data = pd.read_csv('../datasets/train_clean_fe.csv')"
   ]
  },
  {
   "cell_type": "code",
   "execution_count": 4,
   "id": "2ac96b0a",
   "metadata": {},
   "outputs": [],
   "source": [
    "# Remove Unnamed column\n",
    "train_data.drop(['Unnamed: 0'], axis=1, inplace=True)"
   ]
  },
  {
   "cell_type": "code",
   "execution_count": 5,
   "id": "3375c82f",
   "metadata": {
    "scrolled": true
   },
   "outputs": [
    {
     "data": {
      "text/plain": [
       "Index(['id', 'lot_frontage', 'overall_qual', 'bsmtfin_sf_1', 'total_bsmt_sf',\n",
       "       '1st_flr_sf', 'gr_liv_area', 'full_bath', 'totrms_abvgrd', 'fireplaces',\n",
       "       'garage_area', 'saleprice', 'porch_sf', 'house_remod_sold',\n",
       "       'house_age_sold', 'kitchen_qual_Fa', 'kitchen_qual_Gd',\n",
       "       'kitchen_qual_TA', 'neighborhood_Blueste', 'neighborhood_BrDale',\n",
       "       'neighborhood_BrkSide', 'neighborhood_ClearCr', 'neighborhood_CollgCr',\n",
       "       'neighborhood_Crawfor', 'neighborhood_Edwards', 'neighborhood_Gilbert',\n",
       "       'neighborhood_Greens', 'neighborhood_GrnHill', 'neighborhood_IDOTRR',\n",
       "       'neighborhood_Landmrk', 'neighborhood_MeadowV', 'neighborhood_Mitchel',\n",
       "       'neighborhood_NAmes', 'neighborhood_NPkVill', 'neighborhood_NWAmes',\n",
       "       'neighborhood_NoRidge', 'neighborhood_NridgHt', 'neighborhood_OldTown',\n",
       "       'neighborhood_SWISU', 'neighborhood_Sawyer', 'neighborhood_SawyerW',\n",
       "       'neighborhood_Somerst', 'neighborhood_StoneBr', 'neighborhood_Timber',\n",
       "       'neighborhood_Veenker'],\n",
       "      dtype='object')"
      ]
     },
     "execution_count": 5,
     "metadata": {},
     "output_type": "execute_result"
    }
   ],
   "source": [
    "train_data.columns"
   ]
  },
  {
   "cell_type": "code",
   "execution_count": 6,
   "id": "2b2a0541",
   "metadata": {
    "scrolled": true
   },
   "outputs": [
    {
     "data": {
      "text/plain": [
       "Id                   0\n",
       "PID                  0\n",
       "MS SubClass          0\n",
       "MS Zoning            0\n",
       "Lot Frontage       160\n",
       "Lot Area             0\n",
       "Street               0\n",
       "Alley              820\n",
       "Lot Shape            0\n",
       "Land Contour         0\n",
       "Utilities            0\n",
       "Lot Config           0\n",
       "Land Slope           0\n",
       "Neighborhood         0\n",
       "Condition 1          0\n",
       "Condition 2          0\n",
       "Bldg Type            0\n",
       "House Style          0\n",
       "Overall Qual         0\n",
       "Overall Cond         0\n",
       "Year Built           0\n",
       "Year Remod/Add       0\n",
       "Roof Style           0\n",
       "Roof Matl            0\n",
       "Exterior 1st         0\n",
       "Exterior 2nd         0\n",
       "Mas Vnr Type         1\n",
       "Mas Vnr Area         1\n",
       "Exter Qual           0\n",
       "Exter Cond           0\n",
       "Foundation           0\n",
       "Bsmt Qual           25\n",
       "Bsmt Cond           25\n",
       "Bsmt Exposure       25\n",
       "BsmtFin Type 1      25\n",
       "BsmtFin SF 1         0\n",
       "BsmtFin Type 2      25\n",
       "BsmtFin SF 2         0\n",
       "Bsmt Unf SF          0\n",
       "Total Bsmt SF        0\n",
       "Heating              0\n",
       "Heating QC           0\n",
       "Central Air          0\n",
       "Electrical           1\n",
       "1st Flr SF           0\n",
       "2nd Flr SF           0\n",
       "Low Qual Fin SF      0\n",
       "Gr Liv Area          0\n",
       "Bsmt Full Bath       0\n",
       "Bsmt Half Bath       0\n",
       "Full Bath            0\n",
       "Half Bath            0\n",
       "Bedroom AbvGr        0\n",
       "Kitchen AbvGr        0\n",
       "Kitchen Qual         0\n",
       "TotRms AbvGrd        0\n",
       "Functional           0\n",
       "Fireplaces           0\n",
       "Fireplace Qu       422\n",
       "Garage Type         44\n",
       "Garage Yr Blt       45\n",
       "Garage Finish       45\n",
       "Garage Cars          0\n",
       "Garage Area          0\n",
       "Garage Qual         45\n",
       "Garage Cond         45\n",
       "Paved Drive          0\n",
       "Wood Deck SF         0\n",
       "Open Porch SF        0\n",
       "Enclosed Porch       0\n",
       "3Ssn Porch           0\n",
       "Screen Porch         0\n",
       "Pool Area            0\n",
       "Pool QC            874\n",
       "Fence              706\n",
       "Misc Feature       837\n",
       "Misc Val             0\n",
       "Mo Sold              0\n",
       "Yr Sold              0\n",
       "Sale Type            0\n",
       "dtype: int64"
      ]
     },
     "execution_count": 6,
     "metadata": {},
     "output_type": "execute_result"
    }
   ],
   "source": [
    "# check missing values\n",
    "data.isna().sum()"
   ]
  },
  {
   "cell_type": "code",
   "execution_count": 7,
   "id": "fc8a541e",
   "metadata": {},
   "outputs": [],
   "source": [
    "# change column names to snake case\n",
    "data.columns = data.columns.str.lower()\n",
    "data.columns = [column.replace(' ', '_') for column in data.columns]"
   ]
  },
  {
   "cell_type": "code",
   "execution_count": 8,
   "id": "2ef0062f",
   "metadata": {},
   "outputs": [
    {
     "data": {
      "text/plain": [
       "['alley', 'pool_qc', 'fence', 'misc_feature']"
      ]
     },
     "execution_count": 8,
     "metadata": {},
     "output_type": "execute_result"
    }
   ],
   "source": [
    "# identify columns that have greater than 1/3 of their values missing\n",
    "missing_columns = [column for column in data if data.loc[:,column].isna().sum() > 684]\n",
    "missing_columns"
   ]
  },
  {
   "cell_type": "code",
   "execution_count": 9,
   "id": "8bba23ce",
   "metadata": {},
   "outputs": [],
   "source": [
    "# drop missing columns\n",
    "data.drop(columns = missing_columns, inplace=True)"
   ]
  },
  {
   "cell_type": "code",
   "execution_count": 10,
   "id": "a3771fe4",
   "metadata": {},
   "outputs": [],
   "source": [
    "# impute neighborhood mean into missing values for lot_frontage\n",
    "lot_means = data.groupby('neighborhood')['lot_frontage'].mean()\n",
    "\n",
    "for i in range(len(data)):\n",
    "    if np.isnan(data.loc[i, 'lot_frontage']):\n",
    "        data.loc[i, 'lot_frontage'] = lot_means[data.loc[i, 'neighborhood']]"
   ]
  },
  {
   "cell_type": "code",
   "execution_count": 11,
   "id": "cf7d6434",
   "metadata": {},
   "outputs": [],
   "source": [
    "# fill remaining lot_frontage values with overall mean\n",
    "lot_mean = np.mean(data['lot_frontage'])\n",
    "data['lot_frontage'].fillna(lot_mean, inplace=True)"
   ]
  },
  {
   "cell_type": "code",
   "execution_count": 12,
   "id": "1d5c0365",
   "metadata": {},
   "outputs": [],
   "source": [
    "# mas_vnr_area seems to have too many zeroes to be useful. garage_area seems more related. remove mas_vnr_area and mas_vnr_type\n",
    "data.drop(columns = ['mas_vnr_type', 'mas_vnr_area'], inplace=True)"
   ]
  },
  {
   "cell_type": "code",
   "execution_count": 13,
   "id": "5403e9f6",
   "metadata": {},
   "outputs": [],
   "source": [
    "# select only columns we had at the end of cleaning out train.csv\n",
    "data = data[['id', 'pid', 'ms_subclass', 'ms_zoning', 'lot_frontage', 'lot_area',\n",
    "       'street', 'lot_shape', 'land_contour', 'utilities', 'lot_config',\n",
    "       'land_slope', 'neighborhood', 'condition_1', 'condition_2', 'bldg_type',\n",
    "       'house_style', 'overall_qual', 'overall_cond', 'year_built',\n",
    "       'year_remod/add', 'roof_style', 'roof_matl', 'exterior_1st',\n",
    "       'exterior_2nd', 'exter_qual', 'exter_cond', 'foundation',\n",
    "       'bsmtfin_sf_1', 'bsmtfin_sf_2', 'bsmt_unf_sf', 'total_bsmt_sf',\n",
    "       'heating', 'heating_qc', 'central_air', 'electrical', '1st_flr_sf',\n",
    "       '2nd_flr_sf', 'low_qual_fin_sf', 'gr_liv_area', 'bsmt_full_bath',\n",
    "       'bsmt_half_bath', 'full_bath', 'half_bath', 'bedroom_abvgr',\n",
    "       'kitchen_abvgr', 'kitchen_qual', 'totrms_abvgrd', 'functional',\n",
    "       'fireplaces', 'garage_area', 'paved_drive', 'wood_deck_sf',\n",
    "       'open_porch_sf', 'enclosed_porch', '3ssn_porch', 'screen_porch',\n",
    "       'pool_area', 'misc_val', 'mo_sold', 'yr_sold', 'sale_type']]"
   ]
  },
  {
   "cell_type": "markdown",
   "id": "abf56843",
   "metadata": {},
   "source": [
    "### Feature Engineering Test Data\n",
    "Perform steps we used on our train data again to our test data"
   ]
  },
  {
   "cell_type": "code",
   "execution_count": 14,
   "id": "55376eee",
   "metadata": {},
   "outputs": [],
   "source": [
    "# Sum wooden_deck_sf, open_porch_sf and screen_porch into 'porch_sf' column, drop old columns\n",
    "data['porch_sf'] = data['wood_deck_sf'] + data['open_porch_sf'] + data['screen_porch']\n",
    "data.drop(columns=['open_porch_sf', 'wood_deck_sf', 'screen_porch'], inplace=True)"
   ]
  },
  {
   "cell_type": "code",
   "execution_count": 15,
   "id": "13ccbe93",
   "metadata": {},
   "outputs": [],
   "source": [
    "# Make new column 'house_remod_sold' from year_remod/add - yr_sold\n",
    "data['house_remod_sold'] = data['yr_sold'] - data['year_remod/add']"
   ]
  },
  {
   "cell_type": "code",
   "execution_count": 16,
   "id": "adc46023",
   "metadata": {
    "scrolled": true
   },
   "outputs": [],
   "source": [
    "# Make new column 'house_age_sold' from year_built - yr_sold, drop old columns\n",
    "data['house_age_sold'] = data['yr_sold'] - data['year_built']\n",
    "data.drop(columns=['year_built', 'yr_sold', 'year_remod/add'], inplace=True)"
   ]
  },
  {
   "cell_type": "code",
   "execution_count": 17,
   "id": "a8a67e2c",
   "metadata": {},
   "outputs": [],
   "source": [
    "# remove basement 2 data due to very low correlation to price\n",
    "# these columns seem already well represented by total_bsmt_sf\n",
    "data.drop(columns=['bsmt_half_bath', 'bsmtfin_sf_2','bsmt_unf_sf'], inplace=True)"
   ]
  },
  {
   "cell_type": "code",
   "execution_count": 18,
   "id": "86d77823",
   "metadata": {},
   "outputs": [],
   "source": [
    "# Drop features to reduce potential noise\n",
    "data.drop(columns = ['kitchen_abvgr', '2nd_flr_sf', 'low_qual_fin_sf', 'enclosed_porch', 'overall_cond', 'misc_val', 'pool_area', 'bedroom_abvgr'], inplace=True)"
   ]
  },
  {
   "cell_type": "code",
   "execution_count": 19,
   "id": "67d350a7",
   "metadata": {},
   "outputs": [],
   "source": [
    "# drop features with low correlation\n",
    "data.drop(columns = ['lot_area', 'bsmt_full_bath', 'half_bath', '3ssn_porch', 'pid'], inplace=True)"
   ]
  },
  {
   "cell_type": "code",
   "execution_count": 20,
   "id": "37d354c6",
   "metadata": {},
   "outputs": [],
   "source": [
    "# drop mo_sold, ms_subclass and bldg_type due to low variation in saleprice by category\n",
    "data.drop(columns=['bldg_type', 'mo_sold', 'ms_subclass'], inplace=True)"
   ]
  },
  {
   "cell_type": "code",
   "execution_count": 21,
   "id": "2e14facb",
   "metadata": {},
   "outputs": [
    {
     "name": "stderr",
     "output_type": "stream",
     "text": [
      "/home/mark/Python/anaconda3/lib/python3.7/site-packages/ipykernel_launcher.py:3: SettingWithCopyWarning: \n",
      "A value is trying to be set on a copy of a slice from a DataFrame\n",
      "\n",
      "See the caveats in the documentation: https://pandas.pydata.org/pandas-docs/stable/user_guide/indexing.html#returning-a-view-versus-a-copy\n",
      "  This is separate from the ipykernel package so we can avoid doing imports until\n"
     ]
    }
   ],
   "source": [
    "# The kitchen_qual column for test.csv contains a value (Po) that train.csv does not\n",
    "# This will be replaced with TA (typical)\n",
    "data['kitchen_qual'][data['kitchen_qual'] == 'Po'] = 'TA'"
   ]
  },
  {
   "cell_type": "code",
   "execution_count": 22,
   "id": "ae66b166",
   "metadata": {},
   "outputs": [],
   "source": [
    "# One hot encode kitchen_qual and neighborhood\n",
    "data = pd.get_dummies(columns = ['kitchen_qual', 'neighborhood'], data=data, drop_first=True)"
   ]
  },
  {
   "cell_type": "code",
   "execution_count": 23,
   "id": "7d4697b3",
   "metadata": {},
   "outputs": [],
   "source": [
    "# remove other categorical features for now\n",
    "data = data.select_dtypes(exclude=['object'])"
   ]
  },
  {
   "cell_type": "code",
   "execution_count": 24,
   "id": "f551d312",
   "metadata": {
    "scrolled": true
   },
   "outputs": [
    {
     "data": {
      "text/plain": [
       "['saleprice', 'neighborhood_GrnHill', 'neighborhood_Landmrk']"
      ]
     },
     "execution_count": 24,
     "metadata": {},
     "output_type": "execute_result"
    }
   ],
   "source": [
    "# check for columns in train.csv but not in test data\n",
    "list(set(train_data.columns) - set(data.columns))"
   ]
  },
  {
   "cell_type": "code",
   "execution_count": 26,
   "id": "48485d9f",
   "metadata": {},
   "outputs": [],
   "source": [
    "# There are houses in two neighborhoods in train.csv which do not exist in test.csv.\n",
    "# These OHE columns must be removed or predictions can not be made\n",
    "train_data.drop(columns = ['neighborhood_GrnHill', 'neighborhood_Landmrk'], inplace=True)"
   ]
  },
  {
   "cell_type": "code",
   "execution_count": 27,
   "id": "0cdb2b77",
   "metadata": {},
   "outputs": [],
   "source": [
    "# write test and train data to csv for final predictions\n",
    "data.to_csv('../datasets/test_clean.csv')\n",
    "train_data.to_csv('../datasets/train_clean_final.csv')"
   ]
  }
 ],
 "metadata": {
  "kernelspec": {
   "display_name": "Python 3 (ipykernel)",
   "language": "python",
   "name": "python3"
  },
  "language_info": {
   "codemirror_mode": {
    "name": "ipython",
    "version": 3
   },
   "file_extension": ".py",
   "mimetype": "text/x-python",
   "name": "python",
   "nbconvert_exporter": "python",
   "pygments_lexer": "ipython3",
   "version": "3.7.5"
  }
 },
 "nbformat": 4,
 "nbformat_minor": 5
}
